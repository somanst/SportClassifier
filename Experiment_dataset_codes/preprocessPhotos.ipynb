{
 "cells": [
  {
   "cell_type": "code",
   "execution_count": null,
   "metadata": {},
   "outputs": [],
   "source": [
    "import os\n",
    "from PIL import Image\n",
    "\n",
    "def rotate_images_in_folders(main_folder_path):\n",
    "    # Loop through all directories and files in the specified main folder\n",
    "    for dirpath, _, filenames in os.walk(main_folder_path):\n",
    "        for filename in filenames:\n",
    "            # Construct full file path\n",
    "            file_path = os.path.join(dirpath, filename)\n",
    "\n",
    "            # Check if the file is an image (you can add more formats if needed)\n",
    "            if filename.lower().endswith(('.png', '.jpg', '.jpeg', '.bmp')):\n",
    "                try:\n",
    "                    # Open an image file\n",
    "                    with Image.open(file_path) as img:\n",
    "                        # Rotate the image 90 degrees clockwise\n",
    "                        rotated_90 = img.transpose(method=Image.ROTATE_270)  # 90 degrees clockwise\n",
    "                        # Rotate the image 180 degrees\n",
    "                        rotated_180 = img.transpose(method=Image.ROTATE_180)  # 180 degrees\n",
    "                        # Rotate the image 270 degrees clockwise\n",
    "                        rotated_270 = img.transpose(method=Image.ROTATE_90)    # 270 degrees clockwise\n",
    "\n",
    "                        # Create new filenames for the rotated images\n",
    "                        base, ext = os.path.splitext(filename)\n",
    "                        new_filename_90 = f\"{base}_rotated_90{ext}\"             # 90 degrees clockwise\n",
    "                        new_filename_180 = f\"{base}_rotated_180{ext}\"           # 180 degrees\n",
    "                        new_filename_270 = f\"{base}_rotated_270{ext}\"           # 270 degrees clockwise\n",
    "\n",
    "                        # Save the rotated images to the same folder with new filenames\n",
    "                        rotated_90.save(os.path.join(dirpath, new_filename_90))\n",
    "                        rotated_180.save(os.path.join(dirpath, new_filename_180))\n",
    "                        rotated_270.save(os.path.join(dirpath, new_filename_270))\n",
    "\n",
    "                        print(f\"Saved: {new_filename_90}, {new_filename_180}, {new_filename_270} in {dirpath}\")\n",
    "                except Exception as e:\n",
    "                    print(f\"Error processing {filename}: {e}\")\n",
    "\n",
    "# Example usage\n",
    "main_folder_path = 'AugmentDataset/train/'  # Change to your main folder path containing subfolders\n",
    "rotate_images_in_folders(main_folder_path)"
   ]
  },
  {
   "cell_type": "code",
   "execution_count": 1,
   "metadata": {},
   "outputs": [
    {
     "name": "stdout",
     "output_type": "stream",
     "text": [
      "Copied 30% of data from 'dataset/train' to 'smallDataset/train'.\n"
     ]
    }
   ],
   "source": [
    "import os\n",
    "import shutil\n",
    "import random\n",
    "\n",
    "def copy_percentage_of_data(source_folder, destination_folder, percentage):\n",
    "    \"\"\"\n",
    "    Copies a percentage of data from each class folder to a new location.\n",
    "    \n",
    "    Args:\n",
    "        source_folder (str): Path to the folder containing class subfolders.\n",
    "        destination_folder (str): Path to the folder where the data will be copied.\n",
    "        percentage (float): Percentage of data to copy (0-100).\n",
    "    \"\"\"\n",
    "    if not os.path.exists(destination_folder):\n",
    "        os.makedirs(destination_folder)\n",
    "    \n",
    "    for class_folder in os.listdir(source_folder):\n",
    "        class_path = os.path.join(source_folder, class_folder)\n",
    "        \n",
    "        # Skip non-directory files in the source folder\n",
    "        if not os.path.isdir(class_path):\n",
    "            continue\n",
    "        \n",
    "        files = os.listdir(class_path)\n",
    "        num_files_to_copy = max(1, int(len(files) * (percentage / 100)))\n",
    "        \n",
    "        # Randomly select files to copy\n",
    "        files_to_copy = random.sample(files, num_files_to_copy)\n",
    "        \n",
    "        # Destination path for this class\n",
    "        dest_class_path = os.path.join(destination_folder, class_folder)\n",
    "        if not os.path.exists(dest_class_path):\n",
    "            os.makedirs(dest_class_path)\n",
    "        \n",
    "        for file_name in files_to_copy:\n",
    "            source_file = os.path.join(class_path, file_name)\n",
    "            destination_file = os.path.join(dest_class_path, file_name)\n",
    "            shutil.copy2(source_file, destination_file)\n",
    "    \n",
    "    print(f\"Copied {percentage}% of data from '{source_folder}' to '{destination_folder}'.\")\n",
    "\n",
    "# Example usage\n",
    "source_folder = \"dataset/train\"  # Replace with your train dataset path\n",
    "destination_folder = \"smallDataset/train\"  # Replace with desired destination path\n",
    "percentage = 30  # Replace with the percentage of data to copy\n",
    "\n",
    "copy_percentage_of_data(source_folder, destination_folder, percentage)"
   ]
  },
  {
   "cell_type": "code",
   "execution_count": 4,
   "metadata": {},
   "outputs": [
    {
     "name": "stdout",
     "output_type": "stream",
     "text": [
      "Process completed. All images and their flipped versions have been saved.\n"
     ]
    }
   ],
   "source": [
    "import os\n",
    "from PIL import Image\n",
    "import shutil\n",
    "\n",
    "# Define the source and destination directories\n",
    "source_dir = 'dataset/train'  # Folder with original images\n",
    "destination_dir = 'InvertDataset/train'  # Folder where you want the inverted images\n",
    "\n",
    "# Create destination directory if it doesn't exist\n",
    "os.makedirs(destination_dir, exist_ok=True)\n",
    "\n",
    "# Iterate through each class folder\n",
    "for class_folder in os.listdir(source_dir):\n",
    "    class_folder_path = os.path.join(source_dir, class_folder)\n",
    "    if os.path.isdir(class_folder_path):\n",
    "        # Create the same class folder in the destination directory\n",
    "        dest_class_folder = os.path.join(destination_dir, class_folder)\n",
    "        os.makedirs(dest_class_folder, exist_ok=True)\n",
    "        \n",
    "        # Iterate through each image in the class folder\n",
    "        for image_name in os.listdir(class_folder_path):\n",
    "            image_path = os.path.join(class_folder_path, image_name)\n",
    "            \n",
    "            if image_path.lower().endswith(('.png', '.jpg', '.jpeg')):  # check if it's an image file\n",
    "                # Open the image\n",
    "                with Image.open(image_path) as img:\n",
    "                    # Save the original image to the destination\n",
    "                    img.save(os.path.join(dest_class_folder, image_name))\n",
    "                    \n",
    "                    # Invert (flip) the image along the X-axis (horizontal flip)\n",
    "                    flipped_img = img.transpose(Image.FLIP_LEFT_RIGHT)\n",
    "                    \n",
    "                    # Save the flipped image\n",
    "                    flipped_image_name = f\"flipped_{image_name}\"\n",
    "                    flipped_img.save(os.path.join(dest_class_folder, flipped_image_name))\n",
    "\n",
    "print(\"Process completed. All images and their flipped versions have been saved.\")"
   ]
  }
 ],
 "metadata": {
  "kernelspec": {
   "display_name": "base",
   "language": "python",
   "name": "python3"
  },
  "language_info": {
   "codemirror_mode": {
    "name": "ipython",
    "version": 3
   },
   "file_extension": ".py",
   "mimetype": "text/x-python",
   "name": "python",
   "nbconvert_exporter": "python",
   "pygments_lexer": "ipython3",
   "version": "3.9.13"
  }
 },
 "nbformat": 4,
 "nbformat_minor": 2
}
